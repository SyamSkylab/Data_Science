{
  "nbformat": 4,
  "nbformat_minor": 0,
  "metadata": {
    "colab": {
      "provenance": [],
      "collapsed_sections": [],
      "authorship_tag": "ABX9TyOdX9O8xMH/sPNChYa8s9pz",
      "include_colab_link": true
    },
    "kernelspec": {
      "name": "python3",
      "display_name": "Python 3"
    },
    "language_info": {
      "name": "python"
    }
  },
  "cells": [
    {
      "cell_type": "markdown",
      "metadata": {
        "id": "view-in-github",
        "colab_type": "text"
      },
      "source": [
        "<a href=\"https://colab.research.google.com/github/SyamSkylab/Data_Science/blob/main/Untitled2.ipynb\" target=\"_parent\"><img src=\"https://colab.research.google.com/assets/colab-badge.svg\" alt=\"Open In Colab\"/></a>"
      ]
    },
    {
      "cell_type": "code",
      "execution_count": 8,
      "metadata": {
        "colab": {
          "base_uri": "https://localhost:8080/"
        },
        "id": "QetH-3SJRN7R",
        "outputId": "9f8a06c6-8880-41c0-a74b-f20ce130e065"
      },
      "outputs": [
        {
          "output_type": "stream",
          "name": "stdout",
          "text": [
            "Features: ['sepal length (cm)', 'sepal width (cm)', 'petal length (cm)', 'petal width (cm)']\n",
            "Labels: ['setosa' 'versicolor' 'virginica']\n",
            "[2]\n",
            "[1 0 2 1 1 0 1 2 2 1 2 0 0 0 0 1 2 1 1 2 0 2 0 2 2 2 2 2 0 0]\n",
            "0.9666666666666667\n"
          ]
        }
      ],
      "source": [
        "#Calculate accuracy of KNN using iris dataset.\n",
        "\n",
        "from sklearn.neighbors import KNeighborsClassifier\n",
        "from sklearn.model_selection import  train_test_split\n",
        "from sklearn.datasets import load_iris\n",
        "irisData=load_iris()\n",
        "print(\"Features:\",irisData.feature_names)\n",
        "print(\"Labels:\",irisData.target_names)\n",
        "X=irisData.data\n",
        "y=irisData.target\n",
        "X_train,X_test,y_train,y_test=train_test_split(X,y,test_size=0.2,random_state=42)\n",
        "knn=KNeighborsClassifier(n_neighbors=7)\n",
        "knn.fit(X_train,y_train)\n",
        "print(knn.predict([[7.7,2.6,6.9,2.3]]))\n",
        "y_pred=knn.predict(X_test)\n",
        "print(y_pred)\n",
        "from sklearn.metrics import accuracy_score\n",
        "ac=accuracy_score(y_test,y_pred)\n",
        "print(ac)"
      ]
    },
    {
      "cell_type": "code",
      "source": [
        "#Predict the accuracy of standard dataset using naive bayes.\n",
        "\n",
        "from sklearn.model_selection import train_test_split\n",
        "from sklearn.datasets import load_iris\n",
        "irisData=load_iris()\n",
        "print(\"Features:\",irisData.feature_names)\n",
        "print(\"Labels:\",irisData.target_names)\n",
        "X=irisData.data\n",
        "y=irisData.target\n",
        "X_train, X_test, y_train, y_test= train_test_split(X, y, test_size = 0.2, random_state=42)\n",
        "from sklearn.naive_bayes import GaussianNB\n",
        "#Create a Gaussian Classifier\n",
        "gnb=GaussianNB()\n",
        "#Train the model using the training sets\n",
        "gnb.fit(X_train, y_train)\n",
        "#Predict the response for test dataset\n",
        "print(gnb.predict([[ 7.7,2.6,6.9,2.3]]))\n",
        "y_pred1= gnb.predict(X_test)\n",
        "print(y_pred1)\n",
        "from sklearn.metrics import accuracy_score\n",
        "ac1=accuracy_score(y_test,y_pred1)\n",
        "print(ac1)"
      ],
      "metadata": {
        "colab": {
          "base_uri": "https://localhost:8080/"
        },
        "id": "bMCmPCK6WKOn",
        "outputId": "e75b915f-5374-4747-eb96-7f4670017eeb"
      },
      "execution_count": 21,
      "outputs": [
        {
          "output_type": "stream",
          "name": "stdout",
          "text": [
            "Features: ['sepal length (cm)', 'sepal width (cm)', 'petal length (cm)', 'petal width (cm)']\n",
            "Labels: ['setosa' 'versicolor' 'virginica']\n",
            "[2]\n",
            "[1 0 2 1 1 0 1 2 1 1 2 0 0 0 0 1 2 1 1 2 0 2 0 2 2 2 2 2 0 0]\n",
            "1.0\n"
          ]
        }
      ]
    },
    {
      "cell_type": "code",
      "source": [
        "#Predict the accuracy of standard dataset using naive bayes.\n",
        "from sklearn.model_selection import train_test_split\n",
        "from sklearn.datasets import load_iris\n",
        "#Loading data\n",
        "irisData=load_iris()\n",
        "print(\"Features: \", irisData.feature_names)\n",
        "\n",
        "# print the label type of wine(class_ 0, class_ 1, class 2)\n",
        "print(\"Labels: \",irisData.target_names)\n",
        "#Create feature and target arrays\n",
        "X= irisData.data\n",
        "y=irisData. target\n",
        "#Split into training and test set\n",
        "X_train, X_test, y_train, y_test= train_test_split(X, y, test_size = 0.2, random_state=42)\n",
        "from sklearn.naive_bayes import GaussianNB\n",
        "#Create a Gaussian Classifier\n",
        "gnb=GaussianNB()\n",
        "#Train the model using the training sets\n",
        "gnb.fit(X_train, y_train)\n",
        "#Predict the response for test dataset\n",
        "print(gnb.predict([[ 7.7,2.6,6.9,2.3]]))\n",
        "y_predl= gnb.predict(X_test)\n",
        "print(y_pred1)\n",
        "from sklearn.metrics import accuracy_score\n",
        "ac1=accuracy_score(y_test,y_pred1)\n",
        "print(ac1)"
      ],
      "metadata": {
        "colab": {
          "base_uri": "https://localhost:8080/"
        },
        "id": "O3j_eOO_fmgx",
        "outputId": "11ec0b11-dacf-4be0-cb6d-2166df8dd215"
      },
      "execution_count": 24,
      "outputs": [
        {
          "output_type": "stream",
          "name": "stdout",
          "text": [
            "Features:  ['sepal length (cm)', 'sepal width (cm)', 'petal length (cm)', 'petal width (cm)']\n",
            "Labels:  ['setosa' 'versicolor' 'virginica']\n",
            "[2]\n",
            "[1 0 2 1 1 0 1 2 1 1 2 0 0 0 0 1 2 1 1 2 0 2 0 2 2 2 2 2 0 0]\n",
            "1.0\n"
          ]
        }
      ]
    }
  ]
}